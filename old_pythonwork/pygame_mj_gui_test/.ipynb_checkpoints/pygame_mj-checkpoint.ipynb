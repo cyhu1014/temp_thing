{
 "cells": [
  {
   "cell_type": "code",
   "execution_count": 1,
   "metadata": {},
   "outputs": [
    {
     "name": "stdout",
     "output_type": "stream",
     "text": [
      "pygame 1.9.4\n",
      "Hello from the pygame community. https://www.pygame.org/contribute.html\n"
     ]
    }
   ],
   "source": [
    "import pygame\n"
   ]
  },
  {
   "cell_type": "code",
   "execution_count": 2,
   "metadata": {},
   "outputs": [
    {
     "data": {
      "text/plain": [
       "'1.9.4'"
      ]
     },
     "execution_count": 2,
     "metadata": {},
     "output_type": "execute_result"
    }
   ],
   "source": [
    "pygame.ver\n"
   ]
  },
  {
   "cell_type": "code",
   "execution_count": 40,
   "metadata": {},
   "outputs": [
    {
     "ename": "SystemExit",
     "evalue": "",
     "output_type": "error",
     "traceback": [
      "An exception has occurred, use %tb to see the full traceback.\n",
      "\u001b[0;31mSystemExit\u001b[0m\n"
     ]
    },
    {
     "name": "stderr",
     "output_type": "stream",
     "text": [
      "/Users/kayuuko/anaconda3/lib/python3.6/site-packages/IPython/core/interactiveshell.py:2971: UserWarning: To exit: use 'exit', 'quit', or Ctrl-D.\n",
      "  warn(\"To exit: use 'exit', 'quit', or Ctrl-D.\", stacklevel=1)\n"
     ]
    }
   ],
   "source": [
    "background_image_filename = 'green_background.png'\n",
    "mj_tile = []\n",
    "mj_tile_c =[]\n",
    "for i in range (0,34):\n",
    "    mj_tile.append(str(i)+'.png')\n",
    "    \n",
    "    mj_tile_c.append(pygame.image.load(mj_tile[i]).convert_alpha())\n",
    "    mj_tile_c[i]= pygame.transform.scale(mj_tile_c[i], (50, 70))\n",
    "import pygame\n",
    "from pygame.locals import *\n",
    "from sys import exit\n",
    "\n",
    "pygame.init()\n",
    "screen = pygame.display.set_mode((1000, 720), 0, 32)\n",
    "background = pygame.image.load(background_image_filename).convert()\n",
    "#mj_tile_c = pygame.image.load(mj_tile[2]).convert_alpha()\n",
    "\n",
    "\n",
    "x, y = 0, 0\n",
    "move_x, move_y = 0, 0\n",
    "\n",
    "\n",
    "\n",
    "while True:\n",
    "    \n",
    "    for event in pygame.event.get():\n",
    "        if event.type == QUIT:\n",
    "            exit()\n",
    "        if event.type == KEYDOWN:\n",
    "            #键盘有按下？\n",
    "            if event.key == K_LEFT:\n",
    "                #按下的是左方向键的话，把x坐标减一\n",
    "                move_x = -10\n",
    "            elif event.key == K_RIGHT:\n",
    "                #右方向键则加一\n",
    "                move_x = 10\n",
    "            elif event.key == K_UP:\n",
    "                #类似了\n",
    "                move_y = -10\n",
    "            elif event.key == K_DOWN:\n",
    "                move_y = 10\n",
    "            elif event.key == K_q:\n",
    "                pygame.display.quit()\n",
    "        elif event.type == KEYUP:\n",
    "            #如果用户放开了键盘，图就不要动了\n",
    "            move_x = 0\n",
    "            move_y = 0\n",
    "\n",
    "        #计算出新的坐标\n",
    "        x+= move_x\n",
    "        y+= move_y\n",
    "\n",
    "      \n",
    "        screen.blit(background, (0,0))\n",
    "\n",
    "        screen.blit(mj_tile_c[5], (x,y))\n",
    "        x_tile=30\n",
    "        for i in range (0,16):    \n",
    "            screen.blit(mj_tile_c[playerlist[0][i]], (x_tile,600))\n",
    "            x_tile+=55\n",
    "\n",
    "\n",
    "\n",
    "\n",
    "\n",
    "        #在新的位置上画图\n",
    "        pygame.display.update()"
   ]
  },
  {
   "cell_type": "code",
   "execution_count": 7,
   "metadata": {},
   "outputs": [],
   "source": [
    "import random   ###initial imformation and some global parameter\n",
    "playerlist= [4] #player's mj list\n",
    "next_tile = 0 #point to next tile\n",
    "last_tile = 127 #point to last tile can draw\n",
    "add_tile = 143 #point to add tile\n",
    "discard_tile = 0 #last player discard tile\n",
    "\n",
    "next_draw =0\n",
    "playerflowerlist=[4]\n",
    "playerflowersum = [-1,-1,-1,-1]\n",
    "mjlist=[4,4,4,4,4,4,4,4,4,4,4,4,4,4,4,4,4,4,4,4,4,4,4,4,4,4,4,4,4,4,4,4,4,4,1,1,1,1,1,1,1,1] #每一種麻將總和\n",
    "totalmjlist= []  #total mj 144 tile\n",
    "totalmjlist_now=[] #total mj list now state\n",
    "bool_mjlist=[]\n",
    "mjlistname=['一','二','三','四','五','六','七','八','九','一','二','三','四','五','六','七','八','九',\n",
    "            '一','二','三','四','五','六','七','八','九','東','南','西','北','紅','發','白','春','夏','秋','冬','梅','蘭','竹','菊','ㄨ']\n",
    "mjlistname2=['萬','萬','萬','萬','萬','萬','萬','萬','萬','筒','筒','筒','筒','筒','筒','筒','筒','筒',\n",
    "            '條','條','條','條','條','條','條','條','條','風','風','風','風','中','財','板','天','天','天','天','花','花','花','花','ㄨ']\n",
    "\n",
    "done_list= [4]\n",
    "done_num=[0,0,0,0]"
   ]
  },
  {
   "cell_type": "code",
   "execution_count": 2,
   "metadata": {},
   "outputs": [],
   "source": [
    "## new code recently      ###create list :  playerlist =[4][17],playerfowerlist[4][8], totalmjlist[144],bool_mjlist[144],totalmjlist_now[144]\n",
    "def pro_initialize ():   \n",
    "    global totalmjlistlist\n",
    "    global totalmjlist_now\n",
    "    global bool_mjlist\n",
    "    global playerlist\n",
    "    global playerflowerlist\n",
    "    global playerflowersum\n",
    "    global done_list\n",
    "    done_list =[[] for _ in range(4)]\n",
    "    playerlist = [[] for _ in range(4)]\n",
    "    playerflowerlist=[[] for _ in range(4)]\n",
    "    for i in range(0,144):\n",
    "        totalmjlist.append(1)\n",
    "        bool_mjlist.append(1)\n",
    "        totalmjlist_now.append(1)\n",
    "    for i in range(0,4): \n",
    "        playerflowersum[i]=0\n",
    "        for j in range(0,8):\n",
    "            playerflowerlist[i].append(-1)\n",
    "        for j in range(0,16):\n",
    "            playerlist[i].append(0)\n",
    "        playerlist[i].append(42)\n",
    "        for j in range(0,20):\n",
    "            done_list[i].append(-1)\n",
    "\n",
    "                \n",
    "\n",
    "        \n",
    "\n"
   ]
  },
  {
   "cell_type": "code",
   "execution_count": 3,
   "metadata": {},
   "outputs": [],
   "source": [
    "def new_initialize ():  #one match end  initialize()\n",
    "    global totalmjlistlist\n",
    "    global bool_mjlist\n",
    "    global next_tile,done_list,done_num\n",
    "    next_tile = 0\n",
    "    for i in range (0,144):\n",
    "            bool_mjlist[i]=1\n",
    "    for i in range (0,144):\n",
    "        rand=random.randint(0,143)\n",
    "        while(bool_mjlist[rand]==0):\n",
    "            rand=random.randint(0,143)\n",
    "        bool_mjlist[rand]=0\n",
    "        if(rand>=136):\n",
    "            rand-=102\n",
    "        else:\n",
    "            rand=int(rand/4)\n",
    "        totalmjlist[i]=rand\n",
    "        totalmjlist_now[i]=rand"
   ]
  },
  {
   "cell_type": "code",
   "execution_count": 4,
   "metadata": {},
   "outputs": [],
   "source": [
    "def player_initialize( ):\n",
    "    global next_tile\n",
    "    global last_tile\n",
    "    global playerlist\n",
    "    global add_tile\n",
    "    global playerflowerlist\n",
    "    add_tile=143\n",
    "    last_tile=127\n",
    "    playerlist_ptr =[] \n",
    "    for i in range (0,4):\n",
    "        playerlist_ptr.append(0)\n",
    "#################################################handle 4 player  first flower state\n",
    "    for i in range (0,4):\n",
    "        playerflowersum[i]=0\n",
    "        for j in range (0,8):\n",
    "            playerflowerlist[i][j]=-1\n",
    " #################################################handle 4 player donelist firsr state\n",
    "    for i in range (0,4):\n",
    "        done_num[i]=0\n",
    "        for j in range (0,20):\n",
    "            done_list[i][j]=-1\n",
    "        \n",
    "#################################################handle 4 player first 16 tile\n",
    "    for i in range (0,4): # total 4 round\n",
    "        for j in range(0,4): # 4 player\n",
    "            for k in range(0,4): # 4 tile one time\n",
    "                playerlist[j][playerlist_ptr[j]]=totalmjlist[next_tile]\n",
    "                totalmjlist_now[next_tile]=42\n",
    "                next_tile+=1\n",
    "                playerlist_ptr[j]+=1\n",
    "####################################################show and sort\n",
    "    #show_players_tile()\n",
    "    sort_4tile()\n",
    "    #show_players_tile()\n",
    "###################################################handle flower\n",
    "    f_flag=0  #flower flag  1 for with flower\n",
    "    for i in range (0,4):\n",
    "        for j in range(0,16):\n",
    "             if(playerlist[i][j]>=34):\n",
    "                playerflowerlist[i][playerflowersum[i]]=playerlist[i][j]\n",
    "                playerlist[i][j]=totalmjlist[add_tile]\n",
    "                totalmjlist_now[add_tile]=42\n",
    "                playerflowersum[i]+=1\n",
    "                add_tile-=1\n",
    "                last_tile-=1\n",
    "                f_flag=1\n",
    "    #print(\"flowerfirst\")          \n",
    "    #show_players_tile()\n",
    "    while (f_flag==1):\n",
    "        f_flag=0\n",
    "        for i in range (0,4):\n",
    "            for j in range(0,16):\n",
    "                if(playerlist[i][j]>=34):\n",
    "                    playerflowerlist[i][playerflowersum[i]]=playerlist[i][j]\n",
    "                    playerlist[i][j]=totalmjlist[add_tile]\n",
    "                    totalmjlist_now[add_tile]=42\n",
    "                    playerflowersum[i]+=1\n",
    "                    add_tile-=1\n",
    "                    last_tile-=1\n",
    "                    f_flag=1\n",
    "        #if(f_flag==1):\n",
    "           # print(\"floweragain\")          \n",
    "    #show_players_tile()    \n",
    "\n"
   ]
  },
  {
   "cell_type": "code",
   "execution_count": 5,
   "metadata": {},
   "outputs": [],
   "source": [
    "def sort_4tile():\n",
    "    for k in range (0,4):\n",
    "        for i in range (0,8):            #排序\n",
    "            for j in range (i,8):\n",
    "                if (playerflowerlist[k][i]>playerflowerlist[k][j]) :\n",
    "                    temp=playerflowerlist[k][i]\n",
    "                    playerflowerlist[k][i]=playerflowerlist[k][j]\n",
    "                    playerflowerlist[k][j]=temp\n",
    "        for i in range (0,16):            #排序\n",
    "            for j in range (i,16):\n",
    "                if (playerlist[k][i]>playerlist[k][j]) :\n",
    "                    temp=playerlist[k][i]\n",
    "                    playerlist[k][i]=playerlist[k][j]\n",
    "                    playerlist[k][j]=temp"
   ]
  },
  {
   "cell_type": "code",
   "execution_count": 8,
   "metadata": {},
   "outputs": [],
   "source": [
    "pro_initialize()\n",
    "new_initialize()\n",
    "player_initialize()"
   ]
  },
  {
   "cell_type": "code",
   "execution_count": 9,
   "metadata": {},
   "outputs": [
    {
     "name": "stdout",
     "output_type": "stream",
     "text": [
      "[3, 7, 8, 8, 10, 10, 14, 14, 15, 20, 25, 27, 27, 30, 13, 24, 42]\n"
     ]
    }
   ],
   "source": [
    "print(playerlist[0])"
   ]
  }
 ],
 "metadata": {
  "kernelspec": {
   "display_name": "Python 3",
   "language": "python",
   "name": "python3"
  },
  "language_info": {
   "codemirror_mode": {
    "name": "ipython",
    "version": 3
   },
   "file_extension": ".py",
   "mimetype": "text/x-python",
   "name": "python",
   "nbconvert_exporter": "python",
   "pygments_lexer": "ipython3",
   "version": "3.6.5"
  }
 },
 "nbformat": 4,
 "nbformat_minor": 2
}
