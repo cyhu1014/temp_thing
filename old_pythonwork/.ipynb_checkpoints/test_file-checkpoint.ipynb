{
 "cells": [
  {
   "cell_type": "code",
   "execution_count": 1,
   "metadata": {},
   "outputs": [
    {
     "name": "stdout",
     "output_type": "stream",
     "text": [
      "pygame 1.9.4\n",
      "Hello from the pygame community. https://www.pygame.org/contribute.html\n"
     ]
    }
   ],
   "source": [
    "import pygame\n"
   ]
  },
  {
   "cell_type": "code",
   "execution_count": 2,
   "metadata": {},
   "outputs": [
    {
     "data": {
      "text/plain": [
       "'1.9.4'"
      ]
     },
     "execution_count": 2,
     "metadata": {},
     "output_type": "execute_result"
    }
   ],
   "source": [
    "pygame.ver\n"
   ]
  },
  {
   "cell_type": "code",
   "execution_count": 1,
   "metadata": {},
   "outputs": [
    {
     "ename": "IndentationError",
     "evalue": "unexpected indent (<ipython-input-1-e932a0f74804>, line 28)",
     "output_type": "error",
     "traceback": [
      "\u001b[0;36m  File \u001b[0;32m\"<ipython-input-1-e932a0f74804>\"\u001b[0;36m, line \u001b[0;32m28\u001b[0m\n\u001b[0;31m    for event in pygame.event.get():\u001b[0m\n\u001b[0m    ^\u001b[0m\n\u001b[0;31mIndentationError\u001b[0m\u001b[0;31m:\u001b[0m unexpected indent\n"
     ]
    }
   ],
   "source": [
    "#!/usr/bin/env python\n",
    "\n",
    "background_image_filename = 'Layer~1.jpg'\n",
    "mouse_image_filename = '18.png'\n",
    "#指定图像文件名称\n",
    "\n",
    "import pygame\n",
    "#导入pygame库\n",
    "from pygame.locals import *\n",
    "#导入一些常用的函数和常量\n",
    "from sys import exit\n",
    "#向sys模块借一个exit函数用来退出程序\n",
    "\n",
    "pygame.init()\n",
    "#初始化pygame,为使用硬件做准备\n",
    "\n",
    "screen = pygame.display.set_mode((960, 720), 0, 32)\n",
    "#创建了一个窗口\n",
    "pygame.display.set_caption(\"Hello, World!\")\n",
    "#设置窗口标题\n",
    "\n",
    "background = pygame.image.load(background_image_filename).convert()\n",
    "mouse_cursor = pygame.image.load(mouse_image_filename).convert_alpha()\n",
    "#加载并转换图像\n",
    "\n",
    "while True:\n",
    "#游戏主循环\n",
    "\n",
    "    for event in pygame.event.get():\n",
    "        if event.type == QUIT:\n",
    "            #接收到退出事件后退出程序\n",
    "            exit()\n",
    "\n",
    "    screen.blit(background, (0,0))\n",
    "    #将背景图画上去\n",
    "\n",
    "    x, y = pygame.mouse.get_pos()\n",
    "    #获得鼠标位置\n",
    "    x-= mouse_cursor.get_width() / 2\n",
    "    y-= mouse_cursor.get_height() / 2\n",
    "    #计算光标的左上角位置\n",
    "    screen.blit(mouse_cursor, (x, y))\n",
    "    #把光标画上去\n",
    "\n",
    "    pygame.display.update()\n",
    "    #刷新一下画面"
   ]
  },
  {
   "cell_type": "code",
   "execution_count": null,
   "metadata": {},
   "outputs": [
    {
     "name": "stdout",
     "output_type": "stream",
     "text": [
      "pygame 1.9.4\n",
      "Hello from the pygame community. https://www.pygame.org/contribute.html\n"
     ]
    }
   ],
   "source": [
    "background_image_filename = 'green_background.png'\n",
    "mj_tile = []\n",
    "for i in range (18,19):\n",
    "    mj_tile.append(str(i)+'.png')\n",
    "\n",
    "import pygame\n",
    "from pygame.locals import *\n",
    "from sys import exit\n",
    "\n",
    "pygame.init()\n",
    "screen = pygame.display.set_mode((960, 720), 0, 32)\n",
    "background = pygame.image.load(background_image_filename).convert()\n",
    "mj_tile_c = pygame.image.load(mj_tile[0]).convert_alpha()\n",
    "\n",
    "\n",
    "x, y = 0, 0\n",
    "move_x, move_y = 0, 0\n",
    "\n",
    "\n",
    "\n",
    "while True:\n",
    "    \n",
    "    for event in pygame.event.get():\n",
    "        if event.type == QUIT:\n",
    "            exit()\n",
    "        if event.type == KEYDOWN:\n",
    "            #键盘有按下？\n",
    "            if event.key == K_LEFT:\n",
    "                #按下的是左方向键的话，把x坐标减一\n",
    "                move_x = -10\n",
    "            elif event.key == K_RIGHT:\n",
    "                #右方向键则加一\n",
    "                move_x = 10\n",
    "            elif event.key == K_UP:\n",
    "                #类似了\n",
    "                move_y = -10\n",
    "            elif event.key == K_DOWN:\n",
    "                move_y = 10\n",
    "            elif event.key == K_q:\n",
    "                pygame.display.quit()\n",
    "        elif event.type == KEYUP:\n",
    "            #如果用户放开了键盘，图就不要动了\n",
    "            move_x = 0\n",
    "            move_y = 0\n",
    "\n",
    "        #计算出新的坐标\n",
    "        x+= move_x\n",
    "        y+= move_y\n",
    "\n",
    "        screen.fill((0,0,0))\n",
    "        screen.blit(background, (0,0))\n",
    "\n",
    "        screen.blit(mj_tile_c, (x,y))\n",
    "\n",
    "\n",
    "\n",
    "\n",
    "        #在新的位置上画图\n",
    "        pygame.display.update()"
   ]
  },
  {
   "cell_type": "code",
   "execution_count": 4,
   "metadata": {
    "scrolled": true
   },
   "outputs": [
    {
     "ename": "error",
     "evalue": "video system not initialized",
     "output_type": "error",
     "traceback": [
      "\u001b[0;31m---------------------------------------------------------------------------\u001b[0m",
      "\u001b[0;31merror\u001b[0m                                     Traceback (most recent call last)",
      "\u001b[0;32m<ipython-input-4-e69e7bc0dc06>\u001b[0m in \u001b[0;36m<module>\u001b[0;34m()\u001b[0m\n\u001b[1;32m      3\u001b[0m \u001b[0;32mfrom\u001b[0m \u001b[0msys\u001b[0m \u001b[0;32mimport\u001b[0m \u001b[0mexit\u001b[0m\u001b[0;34m\u001b[0m\u001b[0m\n\u001b[1;32m      4\u001b[0m \u001b[0;32mwhile\u001b[0m \u001b[0;32mTrue\u001b[0m\u001b[0;34m:\u001b[0m\u001b[0;34m\u001b[0m\u001b[0m\n\u001b[0;32m----> 5\u001b[0;31m         \u001b[0;32mfor\u001b[0m \u001b[0mevent\u001b[0m \u001b[0;32min\u001b[0m \u001b[0mpygame\u001b[0m\u001b[0;34m.\u001b[0m\u001b[0mevent\u001b[0m\u001b[0;34m.\u001b[0m\u001b[0mget\u001b[0m\u001b[0;34m(\u001b[0m\u001b[0;34m)\u001b[0m\u001b[0;34m:\u001b[0m\u001b[0;34m\u001b[0m\u001b[0m\n\u001b[0m\u001b[1;32m      6\u001b[0m             \u001b[0;32mif\u001b[0m \u001b[0mevent\u001b[0m\u001b[0;34m.\u001b[0m\u001b[0mtype\u001b[0m \u001b[0;34m==\u001b[0m \u001b[0mpygame\u001b[0m\u001b[0;34m.\u001b[0m\u001b[0mQUIT\u001b[0m\u001b[0;34m:\u001b[0m\u001b[0;34m\u001b[0m\u001b[0m\n\u001b[1;32m      7\u001b[0m                 \u001b[0mpygame\u001b[0m\u001b[0;34m.\u001b[0m\u001b[0mquit\u001b[0m\u001b[0;34m(\u001b[0m\u001b[0;34m)\u001b[0m\u001b[0;34m\u001b[0m\u001b[0m\n",
      "\u001b[0;31merror\u001b[0m: video system not initialized"
     ]
    }
   ],
   "source": [
    "import pygame\n",
    "from pygame.locals import *\n",
    "from sys import exit\n",
    "while True:\n",
    "        for event in pygame.event.get():\n",
    "            if event.type == pygame.QUIT:\n",
    "                pygame.quit()\n",
    "                exit()"
   ]
  },
  {
   "cell_type": "code",
   "execution_count": 4,
   "metadata": {},
   "outputs": [
    {
     "name": "stdout",
     "output_type": "stream",
     "text": [
      "['0.png', '1.png', '2.png', '3.png', '4.png', '5.png', '6.png', '7.png', '8.png', '9.png', '10.png', '11.png', '12.png', '13.png', '14.png', '15.png', '16.png', '17.png']\n"
     ]
    }
   ],
   "source": [
    "string=[]\n",
    "for i in range  (0,18):\n",
    "    string.append(str(i)+\".png\")\n",
    "print(string)"
   ]
  },
  {
   "cell_type": "code",
   "execution_count": null,
   "metadata": {},
   "outputs": [],
   "source": []
  }
 ],
 "metadata": {
  "kernelspec": {
   "display_name": "Python 3",
   "language": "python",
   "name": "python3"
  },
  "language_info": {
   "codemirror_mode": {
    "name": "ipython",
    "version": 3
   },
   "file_extension": ".py",
   "mimetype": "text/x-python",
   "name": "python",
   "nbconvert_exporter": "python",
   "pygments_lexer": "ipython3",
   "version": "3.6.5"
  }
 },
 "nbformat": 4,
 "nbformat_minor": 2
}
